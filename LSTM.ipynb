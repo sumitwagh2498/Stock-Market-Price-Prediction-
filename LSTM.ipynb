{
 "cells": [
  {
   "cell_type": "code",
   "execution_count": 2,
   "metadata": {},
   "outputs": [
    {
     "name": "stderr",
     "output_type": "stream",
     "text": [
      "2022-08-18 18:12:36.630955: W tensorflow/stream_executor/platform/default/dso_loader.cc:64] Could not load dynamic library 'libcudart.so.11.0'; dlerror: libcudart.so.11.0: cannot open shared object file: No such file or directory\n",
      "2022-08-18 18:12:36.631025: I tensorflow/stream_executor/cuda/cudart_stub.cc:29] Ignore above cudart dlerror if you do not have a GPU set up on your machine.\n"
     ]
    }
   ],
   "source": [
    "import numpy as np \n",
    "import pandas as pd \n",
    "import matplotlib.pyplot as plt \n",
    "from sklearn.preprocessing import MinMaxScaler\n",
    "from keras.models import Sequential\n",
    "from keras.layers import Dense,LSTM,Dropout"
   ]
  },
  {
   "cell_type": "code",
   "execution_count": 3,
   "metadata": {},
   "outputs": [
    {
     "data": {
      "text/html": [
       "<div>\n",
       "<style scoped>\n",
       "    .dataframe tbody tr th:only-of-type {\n",
       "        vertical-align: middle;\n",
       "    }\n",
       "\n",
       "    .dataframe tbody tr th {\n",
       "        vertical-align: top;\n",
       "    }\n",
       "\n",
       "    .dataframe thead th {\n",
       "        text-align: right;\n",
       "    }\n",
       "</style>\n",
       "<table border=\"1\" class=\"dataframe\">\n",
       "  <thead>\n",
       "    <tr style=\"text-align: right;\">\n",
       "      <th></th>\n",
       "      <th>Date</th>\n",
       "      <th>Open</th>\n",
       "      <th>High</th>\n",
       "      <th>Low</th>\n",
       "      <th>Close</th>\n",
       "      <th>Volume</th>\n",
       "    </tr>\n",
       "  </thead>\n",
       "  <tbody>\n",
       "    <tr>\n",
       "      <th>0</th>\n",
       "      <td>1/3/2012</td>\n",
       "      <td>325.25</td>\n",
       "      <td>332.83</td>\n",
       "      <td>324.97</td>\n",
       "      <td>663.59</td>\n",
       "      <td>7,380,500</td>\n",
       "    </tr>\n",
       "    <tr>\n",
       "      <th>1</th>\n",
       "      <td>1/4/2012</td>\n",
       "      <td>331.27</td>\n",
       "      <td>333.87</td>\n",
       "      <td>329.08</td>\n",
       "      <td>666.45</td>\n",
       "      <td>5,749,400</td>\n",
       "    </tr>\n",
       "    <tr>\n",
       "      <th>2</th>\n",
       "      <td>1/5/2012</td>\n",
       "      <td>329.83</td>\n",
       "      <td>330.75</td>\n",
       "      <td>326.89</td>\n",
       "      <td>657.21</td>\n",
       "      <td>6,590,300</td>\n",
       "    </tr>\n",
       "    <tr>\n",
       "      <th>3</th>\n",
       "      <td>1/6/2012</td>\n",
       "      <td>328.34</td>\n",
       "      <td>328.77</td>\n",
       "      <td>323.68</td>\n",
       "      <td>648.24</td>\n",
       "      <td>5,405,900</td>\n",
       "    </tr>\n",
       "    <tr>\n",
       "      <th>4</th>\n",
       "      <td>1/9/2012</td>\n",
       "      <td>322.04</td>\n",
       "      <td>322.29</td>\n",
       "      <td>309.46</td>\n",
       "      <td>620.76</td>\n",
       "      <td>11,688,800</td>\n",
       "    </tr>\n",
       "  </tbody>\n",
       "</table>\n",
       "</div>"
      ],
      "text/plain": [
       "       Date    Open    High     Low   Close      Volume\n",
       "0  1/3/2012  325.25  332.83  324.97  663.59   7,380,500\n",
       "1  1/4/2012  331.27  333.87  329.08  666.45   5,749,400\n",
       "2  1/5/2012  329.83  330.75  326.89  657.21   6,590,300\n",
       "3  1/6/2012  328.34  328.77  323.68  648.24   5,405,900\n",
       "4  1/9/2012  322.04  322.29  309.46  620.76  11,688,800"
      ]
     },
     "execution_count": 3,
     "metadata": {},
     "output_type": "execute_result"
    }
   ],
   "source": [
    "data = pd.read_csv('Google_train_data.csv')\n",
    "data.head()"
   ]
  },
  {
   "cell_type": "code",
   "execution_count": 4,
   "metadata": {},
   "outputs": [
    {
     "name": "stdout",
     "output_type": "stream",
     "text": [
      "<class 'pandas.core.frame.DataFrame'>\n",
      "RangeIndex: 1258 entries, 0 to 1257\n",
      "Data columns (total 6 columns):\n",
      " #   Column  Non-Null Count  Dtype  \n",
      "---  ------  --------------  -----  \n",
      " 0   Date    1258 non-null   object \n",
      " 1   Open    1258 non-null   float64\n",
      " 2   High    1258 non-null   float64\n",
      " 3   Low     1258 non-null   float64\n",
      " 4   Close   1258 non-null   object \n",
      " 5   Volume  1258 non-null   object \n",
      "dtypes: float64(3), object(3)\n",
      "memory usage: 59.1+ KB\n"
     ]
    }
   ],
   "source": [
    "data.info()"
   ]
  },
  {
   "cell_type": "code",
   "execution_count": 5,
   "metadata": {},
   "outputs": [],
   "source": [
    "data[\"Close\"]=pd.to_numeric(data.Close,errors='coerce')\n",
    "data = data.dropna()\n",
    "trainData = data.iloc[:,4:5].values"
   ]
  },
  {
   "cell_type": "code",
   "execution_count": 6,
   "metadata": {},
   "outputs": [
    {
     "name": "stdout",
     "output_type": "stream",
     "text": [
      "<class 'pandas.core.frame.DataFrame'>\n",
      "Int64Index: 1149 entries, 0 to 1257\n",
      "Data columns (total 6 columns):\n",
      " #   Column  Non-Null Count  Dtype  \n",
      "---  ------  --------------  -----  \n",
      " 0   Date    1149 non-null   object \n",
      " 1   Open    1149 non-null   float64\n",
      " 2   High    1149 non-null   float64\n",
      " 3   Low     1149 non-null   float64\n",
      " 4   Close   1149 non-null   float64\n",
      " 5   Volume  1149 non-null   object \n",
      "dtypes: float64(4), object(2)\n",
      "memory usage: 62.8+ KB\n"
     ]
    }
   ],
   "source": [
    "data.info()"
   ]
  },
  {
   "cell_type": "code",
   "execution_count": 7,
   "metadata": {},
   "outputs": [
    {
     "data": {
      "text/plain": [
       "(1149, 1)"
      ]
     },
     "execution_count": 7,
     "metadata": {},
     "output_type": "execute_result"
    }
   ],
   "source": [
    "sc = MinMaxScaler(feature_range=(0,1))\n",
    "trainData = sc.fit_transform(trainData)\n",
    "trainData.shape"
   ]
  },
  {
   "cell_type": "code",
   "execution_count": 8,
   "metadata": {},
   "outputs": [],
   "source": [
    "X_train = []\n",
    "y_train = []\n",
    "\n",
    "for i in range (60,1149): #60 : timestep // 1149 : length of the data\n",
    "    X_train.append(trainData[i-60:i,0]) \n",
    "    y_train.append(trainData[i,0])\n",
    "\n",
    "X_train,y_train = np.array(X_train),np.array(y_train)"
   ]
  },
  {
   "cell_type": "code",
   "execution_count": 9,
   "metadata": {},
   "outputs": [
    {
     "data": {
      "text/plain": [
       "(1089, 60, 1)"
      ]
     },
     "execution_count": 9,
     "metadata": {},
     "output_type": "execute_result"
    }
   ],
   "source": [
    "X_train = np.reshape(X_train,(X_train.shape[0],X_train.shape[1],1)) #adding the batch_size axis\n",
    "X_train.shape"
   ]
  },
  {
   "cell_type": "code",
   "execution_count": 10,
   "metadata": {},
   "outputs": [
    {
     "name": "stderr",
     "output_type": "stream",
     "text": [
      "2022-08-18 18:13:06.934375: W tensorflow/stream_executor/platform/default/dso_loader.cc:64] Could not load dynamic library 'libcuda.so.1'; dlerror: libcuda.so.1: cannot open shared object file: No such file or directory\n",
      "2022-08-18 18:13:06.934456: W tensorflow/stream_executor/cuda/cuda_driver.cc:269] failed call to cuInit: UNKNOWN ERROR (303)\n",
      "2022-08-18 18:13:06.934523: I tensorflow/stream_executor/cuda/cuda_diagnostics.cc:156] kernel driver does not appear to be running on this host (Kalki): /proc/driver/nvidia/version does not exist\n",
      "2022-08-18 18:13:06.935219: I tensorflow/core/platform/cpu_feature_guard.cc:193] This TensorFlow binary is optimized with oneAPI Deep Neural Network Library (oneDNN) to use the following CPU instructions in performance-critical operations:  AVX2 FMA\n",
      "To enable them in other operations, rebuild TensorFlow with the appropriate compiler flags.\n"
     ]
    }
   ],
   "source": [
    "model = Sequential()\n",
    "\n",
    "model.add(LSTM(units=100, return_sequences = True, input_shape =(X_train.shape[1],1)))\n",
    "model.add(Dropout(0.2))\n",
    "\n",
    "model.add(LSTM(units=100, return_sequences = True))\n",
    "model.add(Dropout(0.2))\n",
    "\n",
    "model.add(LSTM(units=100, return_sequences = True))\n",
    "model.add(Dropout(0.2))\n",
    "\n",
    "model.add(LSTM(units=100, return_sequences = False))\n",
    "model.add(Dropout(0.2))\n",
    "\n",
    "model.add(Dense(units =1))\n",
    "model.compile(optimizer='adam',loss=\"mean_squared_error\")"
   ]
  },
  {
   "cell_type": "code",
   "execution_count": 11,
   "metadata": {},
   "outputs": [
    {
     "name": "stdout",
     "output_type": "stream",
     "text": [
      "Epoch 1/20\n",
      "35/35 - 19s - loss: 0.0308 - 19s/epoch - 533ms/step\n",
      "Epoch 2/20\n",
      "35/35 - 8s - loss: 0.0112 - 8s/epoch - 217ms/step\n",
      "Epoch 3/20\n",
      "35/35 - 6s - loss: 0.0082 - 6s/epoch - 181ms/step\n",
      "Epoch 4/20\n",
      "35/35 - 8s - loss: 0.0072 - 8s/epoch - 218ms/step\n",
      "Epoch 5/20\n",
      "35/35 - 7s - loss: 0.0114 - 7s/epoch - 208ms/step\n",
      "Epoch 6/20\n",
      "35/35 - 7s - loss: 0.0068 - 7s/epoch - 186ms/step\n",
      "Epoch 7/20\n",
      "35/35 - 6s - loss: 0.0067 - 6s/epoch - 178ms/step\n",
      "Epoch 8/20\n",
      "35/35 - 6s - loss: 0.0073 - 6s/epoch - 179ms/step\n",
      "Epoch 9/20\n",
      "35/35 - 6s - loss: 0.0063 - 6s/epoch - 182ms/step\n",
      "Epoch 10/20\n",
      "35/35 - 7s - loss: 0.0059 - 7s/epoch - 193ms/step\n",
      "Epoch 11/20\n",
      "35/35 - 6s - loss: 0.0057 - 6s/epoch - 181ms/step\n",
      "Epoch 12/20\n",
      "35/35 - 7s - loss: 0.0053 - 7s/epoch - 189ms/step\n",
      "Epoch 13/20\n",
      "35/35 - 6s - loss: 0.0051 - 6s/epoch - 182ms/step\n",
      "Epoch 14/20\n",
      "35/35 - 7s - loss: 0.0060 - 7s/epoch - 187ms/step\n",
      "Epoch 15/20\n",
      "35/35 - 6s - loss: 0.0052 - 6s/epoch - 180ms/step\n",
      "Epoch 16/20\n",
      "35/35 - 6s - loss: 0.0072 - 6s/epoch - 181ms/step\n",
      "Epoch 17/20\n",
      "35/35 - 6s - loss: 0.0060 - 6s/epoch - 185ms/step\n",
      "Epoch 18/20\n",
      "35/35 - 6s - loss: 0.0047 - 6s/epoch - 184ms/step\n",
      "Epoch 19/20\n",
      "35/35 - 6s - loss: 0.0045 - 6s/epoch - 181ms/step\n",
      "Epoch 20/20\n",
      "35/35 - 6s - loss: 0.0043 - 6s/epoch - 182ms/step\n"
     ]
    }
   ],
   "source": [
    "hist = model.fit(X_train, y_train, epochs = 20, batch_size = 32, verbose=2)"
   ]
  },
  {
   "cell_type": "code",
   "execution_count": 12,
   "metadata": {},
   "outputs": [
    {
     "data": {
      "image/png": "[encoded data removed]",
      "text/plain": [
       "<Figure size 640x480 with 1 Axes>"
      ]
     },
     "metadata": {},
     "output_type": "display_data"
    }
   ],
   "source": [
    "plt.plot(hist.history['loss'])\n",
    "plt.title('Training model loss')\n",
    "plt.ylabel('loss')\n",
    "plt.xlabel('epoch')\n",
    "plt.legend(['train'], loc='upper left')\n",
    "plt.show()"
   ]
  },
  {
   "cell_type": "code",
   "execution_count": 13,
   "metadata": {},
   "outputs": [
    {
     "data": {
      "text/plain": [
       "(192, 60, 1)"
      ]
     },
     "execution_count": 13,
     "metadata": {},
     "output_type": "execute_result"
    }
   ],
   "source": [
    "testData = pd.read_csv('Google_test_data.csv')\n",
    "testData[\"Close\"]=pd.to_numeric(testData.Close,errors='coerce')\n",
    "testData = testData.dropna()\n",
    "testData = testData.iloc[:,4:5]\n",
    "y_test = testData.iloc[60:,0:].values \n",
    "#input array for the model\n",
    "inputClosing = testData.iloc[:,0:].values \n",
    "inputClosing_scaled = sc.transform(inputClosing)\n",
    "inputClosing_scaled.shape\n",
    "X_test = []\n",
    "length = len(testData)\n",
    "timestep = 60\n",
    "for i in range(timestep,length):  \n",
    "    X_test.append(inputClosing_scaled[i-timestep:i,0])\n",
    "X_test = np.array(X_test)\n",
    "X_test = np.reshape(X_test,(X_test.shape[0],X_test.shape[1],1))\n",
    "X_test.shape"
   ]
  },
  {
   "cell_type": "code",
   "execution_count": 14,
   "metadata": {},
   "outputs": [
    {
     "name": "stdout",
     "output_type": "stream",
     "text": [
      "6/6 [==============================] - 2s 63ms/step\n"
     ]
    },
    {
     "data": {
      "text/plain": [
       "array([[1.1947266],\n",
       "       [1.1959529],\n",
       "       [1.2066903],\n",
       "       [1.2227272],\n",
       "       [1.2342117],\n",
       "       [1.231032 ],\n",
       "       [1.2154336],\n",
       "       [1.1967816],\n",
       "       [1.1867645],\n",
       "       [1.1860313],\n",
       "       [1.1805582],\n",
       "       [1.1699901],\n",
       "       [1.1608316],\n",
       "       [1.152414 ],\n",
       "       [1.1516043],\n",
       "       [1.1569589],\n",
       "       [1.1757511],\n",
       "       [1.2036855],\n",
       "       [1.2339256],\n",
       "       [1.2626358],\n",
       "       [1.2706438],\n",
       "       [1.2635456],\n",
       "       [1.2410544],\n",
       "       [1.2123199],\n",
       "       [1.1890683],\n",
       "       [1.178708 ],\n",
       "       [1.179557 ],\n",
       "       [1.1818129],\n",
       "       [1.175269 ],\n",
       "       [1.1643916],\n",
       "       [1.152441 ],\n",
       "       [1.1389419],\n",
       "       [1.118475 ],\n",
       "       [1.0936452],\n",
       "       [1.0857284],\n",
       "       [1.0979614],\n",
       "       [1.1209352],\n",
       "       [1.1445177],\n",
       "       [1.1651089],\n",
       "       [1.1727834],\n",
       "       [1.1819378],\n",
       "       [1.1948717],\n",
       "       [1.2108296],\n",
       "       [1.2256465],\n",
       "       [1.235167 ],\n",
       "       [1.2352498],\n",
       "       [1.2247349],\n",
       "       [1.2169987],\n",
       "       [1.2169259],\n",
       "       [1.2252476],\n",
       "       [1.2400538],\n",
       "       [1.2490413],\n",
       "       [1.2508907],\n",
       "       [1.2473772],\n",
       "       [1.2460527],\n",
       "       [1.2428492],\n",
       "       [1.2350221],\n",
       "       [1.232101 ],\n",
       "       [1.2427769],\n",
       "       [1.2615713],\n",
       "       [1.28702  ],\n",
       "       [1.3162795],\n",
       "       [1.3345599],\n",
       "       [1.3346301],\n",
       "       [1.3204658],\n",
       "       [1.300484 ],\n",
       "       [1.2889845],\n",
       "       [1.2877549],\n",
       "       [1.2937964],\n",
       "       [1.3004769],\n",
       "       [1.3062406],\n",
       "       [1.3090739],\n",
       "       [1.3046023],\n",
       "       [1.2987485],\n",
       "       [1.294282 ],\n",
       "       [1.2935754],\n",
       "       [1.2961745],\n",
       "       [1.3013816],\n",
       "       [1.3130755],\n",
       "       [1.3301079],\n",
       "       [1.35153  ],\n",
       "       [1.3710449],\n",
       "       [1.3806201],\n",
       "       [1.3801906],\n",
       "       [1.383036 ],\n",
       "       [1.3956343],\n",
       "       [1.4136511],\n",
       "       [1.4285738],\n",
       "       [1.4367071],\n",
       "       [1.4384419],\n",
       "       [1.4402738],\n",
       "       [1.4505972],\n",
       "       [1.4684298],\n",
       "       [1.4798137],\n",
       "       [1.4783417],\n",
       "       [1.4654477],\n",
       "       [1.4446756],\n",
       "       [1.4219052],\n",
       "       [1.4042808],\n",
       "       [1.4004235],\n",
       "       [1.4094911],\n",
       "       [1.4264721],\n",
       "       [1.4471473],\n",
       "       [1.4636357],\n",
       "       [1.4721962],\n",
       "       [1.4718269],\n",
       "       [1.4673015],\n",
       "       [1.462704 ],\n",
       "       [1.463472 ],\n",
       "       [1.4693996],\n",
       "       [1.4790629],\n",
       "       [1.4917158],\n",
       "       [1.5038786],\n",
       "       [1.5165973],\n",
       "       [1.5323814],\n",
       "       [1.5451751],\n",
       "       [1.5547444],\n",
       "       [1.5632074],\n",
       "       [1.5745103],\n",
       "       [1.5557289],\n",
       "       [1.5090754],\n",
       "       [1.4526689],\n",
       "       [1.4105283],\n",
       "       [1.3904153],\n",
       "       [1.3844026],\n",
       "       [1.3841096],\n",
       "       [1.3847727],\n",
       "       [1.3859046],\n",
       "       [1.3782288],\n",
       "       [1.3610013],\n",
       "       [1.3530465],\n",
       "       [1.361101 ],\n",
       "       [1.3747238],\n",
       "       [1.3802481],\n",
       "       [1.3796431],\n",
       "       [1.3765769],\n",
       "       [1.3703535],\n",
       "       [1.3607535],\n",
       "       [1.3505749],\n",
       "       [1.337271 ],\n",
       "       [1.323745 ],\n",
       "       [1.3089117],\n",
       "       [1.2765411],\n",
       "       [1.2382984],\n",
       "       [1.2023162],\n",
       "       [1.1756327],\n",
       "       [1.1662877],\n",
       "       [1.1756346],\n",
       "       [1.1959283],\n",
       "       [1.2179669],\n",
       "       [1.2388071],\n",
       "       [1.2545931],\n",
       "       [1.2658248],\n",
       "       [1.2756569],\n",
       "       [1.2835997],\n",
       "       [1.2912388],\n",
       "       [1.300639 ],\n",
       "       [1.3084292],\n",
       "       [1.3049732],\n",
       "       [1.2904083],\n",
       "       [1.2699871],\n",
       "       [1.2514762],\n",
       "       [1.2433932],\n",
       "       [1.2489326],\n",
       "       [1.2659782],\n",
       "       [1.2900504],\n",
       "       [1.3098619],\n",
       "       [1.3234404],\n",
       "       [1.3350908],\n",
       "       [1.3460131],\n",
       "       [1.3551649],\n",
       "       [1.3628637],\n",
       "       [1.3693182],\n",
       "       [1.3718799],\n",
       "       [1.370797 ],\n",
       "       [1.363011 ],\n",
       "       [1.3536316],\n",
       "       [1.348255 ],\n",
       "       [1.3451883],\n",
       "       [1.3419166],\n",
       "       [1.3715215],\n",
       "       [1.422696 ],\n",
       "       [1.4716644],\n",
       "       [1.5029111],\n",
       "       [1.512587 ],\n",
       "       [1.5023857],\n",
       "       [1.4696295],\n",
       "       [1.432876 ],\n",
       "       [1.4047184],\n",
       "       [1.3979552],\n",
       "       [1.4034697],\n",
       "       [1.4095808]], dtype=float32)"
      ]
     },
     "execution_count": 14,
     "metadata": {},
     "output_type": "execute_result"
    }
   ],
   "source": [
    "y_pred = model.predict(X_test)\n",
    "y_pred"
   ]
  },
  {
   "cell_type": "code",
   "execution_count": 15,
   "metadata": {},
   "outputs": [],
   "source": [
    "predicted_price = sc.inverse_transform(y_pred)"
   ]
  },
  {
   "cell_type": "code",
   "execution_count": 16,
   "metadata": {},
   "outputs": [
    {
     "data": {
      "image/png": "[encoded data removed]",
      "text/plain": [
       "<Figure size 640x480 with 1 Axes>"
      ]
     },
     "metadata": {},
     "output_type": "display_data"
    }
   ],
   "source": [
    "plt.plot(y_test, color = 'red', label = 'Actual Stock Price')\n",
    "plt.plot(predicted_price, color = 'green', label = 'Predicted Stock Price')\n",
    "plt.title('Google stock price prediction')\n",
    "plt.xlabel('Time')\n",
    "plt.ylabel('Stock Price')\n",
    "plt.legend()\n",
    "plt.show()"
   ]
  },
  {
   "cell_type": "code",
   "execution_count": null,
   "metadata": {},
   "outputs": [],
   "source": []
  }
 ],
 "metadata": {
  "kernelspec": {
   "display_name": "Python 3.8.10 64-bit",
   "language": "python",
   "name": "python3"
  },
  "language_info": {
   "codemirror_mode": {
    "name": "ipython",
    "version": 3
   },
   "file_extension": ".py",
   "mimetype": "text/x-python",
   "name": "python",
   "nbconvert_exporter": "python",
   "pygments_lexer": "ipython3",
   "version": "3.8.10"
  },
  "vscode": {
   "interpreter": {
    "hash": "916dbcbb3f70747c44a77c7bcd40155683ae19c65e1c03b4aa3499c5328201f1"
   }
  }
 },
 "nbformat": 4,
 "nbformat_minor": 4
}
